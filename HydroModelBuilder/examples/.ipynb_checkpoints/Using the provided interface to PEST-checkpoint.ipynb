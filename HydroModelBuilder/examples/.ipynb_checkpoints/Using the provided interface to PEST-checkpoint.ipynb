{
 "cells": [
  {
   "cell_type": "code",
   "execution_count": 1,
   "metadata": {},
   "outputs": [],
   "source": [
    "%load_ext autoreload\n",
    "%autoreload 2"
   ]
  },
  {
   "cell_type": "code",
   "execution_count": 11,
   "metadata": {},
   "outputs": [
    {
     "ename": "SystemExit",
     "evalue": "Error reading config file. Could be due to incorrect JSON formatting \n[Errno 2] No such file or directory: '../../config/model_config.json'",
     "output_type": "error",
     "traceback": [
      "An exception has occurred, use %tb to see the full traceback.\n",
      "\u001b[1;31mSystemExit\u001b[0m\u001b[1;31m:\u001b[0m Error reading config file. Could be due to incorrect JSON formatting \n[Errno 2] No such file or directory: '../../config/model_config.json'\n"
     ]
    },
    {
     "name": "stderr",
     "output_type": "stream",
     "text": [
      "C:\\UserData\\takuyai\\Miniconda3\\envs\\cim\\lib\\site-packages\\IPython\\core\\interactiveshell.py:2890: UserWarning: To exit: use 'exit', 'quit', or Ctrl-D.\n",
      "  warn(\"To exit: use 'exit', 'quit', or Ctrl-D.\", stacklevel=1)\n"
     ]
    }
   ],
   "source": [
    "# Based on `Campaspe_transient_PEST.py`\n",
    "\n",
    "import sys\n",
    "import os\n",
    "\n",
    "from HydroModelBuilder.GWModelManager import GWModelManager\n",
    "from HydroModelBuilder.Utilities import ConfigLoader\n",
    "\n",
    "def run(model_folder, pest_folder):\n",
    "    \n",
    "    MM = GWModelManager()\n",
    "    MM.load_GW_model(os.path.join(model_folder, \"02_transient_flow_packaged.pkl\"))\n",
    "    \n",
    "    name = MM.GW_build.keys()[0]\n",
    "\n",
    "    MM.setupPEST(name, \n",
    "                 directory=pest_folder, \n",
    "                 csv_copy=True, models_ID=[name]) \n",
    "           \n",
    "    MM.PEST.genParameters(method='csv')\n",
    "    MM.PEST.genPESTpgp()\n",
    "    MM.PEST.genPestfiles(models_ID=[name])       \n",
    "\n",
    "if __name__ ==  \"__main__\":\n",
    "\n",
    "    # Get general model config information\n",
    "    CONFIG = ConfigLoader('../../config/model_config.json')\\\n",
    "                    .set_environment(\"02_transient_flow\")\n",
    "\n",
    "    verbose=True\n",
    "                    \n",
    "    args = sys.argv\n",
    "    if len(args) > 1:\n",
    "        model_folder = sys.argv[1]\n",
    "        data_folder = sys.argv[2]\n",
    "    else:\n",
    "        model_config = CONFIG.model_config\n",
    "        model_folder = model_config['model_folder'] + model_config['grid_resolution'] + os.path.sep\n",
    "        data_folder = model_config['data_folder']\n",
    "    \n",
    "    pest_folder = data_folder     \n",
    "    \n",
    "    run(model_folder, pest_folder)"
   ]
  },
  {
   "cell_type": "code",
   "execution_count": null,
   "metadata": {},
   "outputs": [],
   "source": []
  }
 ],
 "metadata": {
  "kernelspec": {
   "display_name": "cim",
   "language": "python",
   "name": "cim"
  },
  "language_info": {
   "codemirror_mode": {
    "name": "ipython",
    "version": 2
   },
   "file_extension": ".py",
   "mimetype": "text/x-python",
   "name": "python",
   "nbconvert_exporter": "python",
   "pygments_lexer": "ipython2",
   "version": "2.7.13"
  }
 },
 "nbformat": 4,
 "nbformat_minor": 2
}
